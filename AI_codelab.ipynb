{
  "nbformat": 4,
  "nbformat_minor": 0,
  "metadata": {
    "colab": {
      "name": "Kindly_AI.ipynb",
      "provenance": [],
      "collapsed_sections": [],
      "authorship_tag": "ABX9TyMTyYmQ//L/sUHgI+/GjDqB"
    },
    "kernelspec": {
      "name": "python3",
      "display_name": "Python 3"
    },
    "language_info": {
      "name": "python"
    }
  },
  "cells": [
    {
      "cell_type": "markdown",
      "metadata": {
        "id": "YOHhYxCQwbE9"
      },
      "source": [
        "**Importing necessary modules**"
      ]
    },
    {
      "cell_type": "code",
      "metadata": {
        "id": "pKMY2zebyCbO"
      },
      "source": [
        "import pandas as pd\n",
        "import tensorflow as tf\n",
        "from tensorflow.keras import Sequential\n",
        "from tensorflow.keras.layers import Dense\n",
        "\n",
        "import numpy as np\n",
        "import json\n",
        "\n",
        "from sklearn.model_selection import train_test_split\n",
        "from sklearn.utils import shuffle\n",
        "from google.cloud import bigquery\n"
      ],
      "execution_count": null,
      "outputs": []
    },
    {
      "cell_type": "markdown",
      "metadata": {
        "id": "nCwde1yIv-l8"
      },
      "source": [
        "**Installing What-If tool**"
      ]
    },
    {
      "cell_type": "code",
      "metadata": {
        "id": "KbWcRlZdzF8q"
      },
      "source": [
        "!pip install witwidget"
      ],
      "execution_count": null,
      "outputs": []
    },
    {
      "cell_type": "code",
      "metadata": {
        "id": "6oXKfOw70F5W"
      },
      "source": [
        "from witwidget.notebook.visualization import WitWidget, WitConfigBuilder"
      ],
      "execution_count": null,
      "outputs": []
    },
    {
      "cell_type": "code",
      "metadata": {
        "id": "URBqACvk3DmD",
        "colab": {
          "base_uri": "https://localhost:8080/"
        },
        "outputId": "42fb7346-cb8a-4cc2-b6e6-884d4ec26035"
      },
      "source": [
        "from google.colab import auth\n",
        "auth.authenticate_user()\n",
        "print('Authenticated')"
      ],
      "execution_count": null,
      "outputs": [
        {
          "output_type": "stream",
          "name": "stdout",
          "text": [
            "Authenticated\n"
          ]
        }
      ]
    },
    {
      "cell_type": "code",
      "metadata": {
        "id": "p77wWwwC0K4Z"
      },
      "source": [
        "project_id = 'unicef-aldeav'"
      ],
      "execution_count": null,
      "outputs": []
    },
    {
      "cell_type": "code",
      "metadata": {
        "id": "EDpQkjKs1AkJ"
      },
      "source": [
        "client = bigquery.Client(project=project_id)"
      ],
      "execution_count": null,
      "outputs": []
    },
    {
      "cell_type": "markdown",
      "metadata": {
        "id": "_1u5X8YhxRVq"
      },
      "source": [
        "**Retrieving natality dataset using BigQuery**"
      ]
    },
    {
      "cell_type": "code",
      "metadata": {
        "id": "zXO4b8nF4qzl"
      },
      "source": [
        "sql = \"\"\"\n",
        "SELECT\n",
        "  weight_pounds,\n",
        "  is_male,\n",
        "  mother_age,\n",
        "  plurality,\n",
        "  gestation_weeks\n",
        "FROM\n",
        "  publicdata.samples.natality\n",
        "WHERE year > 2000\n",
        "LIMIT 10000\n",
        "\"\"\"\n",
        "\n",
        "df = client.query(sql).to_dataframe()"
      ],
      "execution_count": null,
      "outputs": []
    },
    {
      "cell_type": "code",
      "metadata": {
        "id": "ISrJQI-V49Is",
        "colab": {
          "base_uri": "https://localhost:8080/",
          "height": 203
        },
        "outputId": "56231490-7d2f-43a3-a204-b1feb6f9458e"
      },
      "source": [
        "df.head()"
      ],
      "execution_count": null,
      "outputs": [
        {
          "output_type": "execute_result",
          "data": {
            "text/html": [
              "<div>\n",
              "<style scoped>\n",
              "    .dataframe tbody tr th:only-of-type {\n",
              "        vertical-align: middle;\n",
              "    }\n",
              "\n",
              "    .dataframe tbody tr th {\n",
              "        vertical-align: top;\n",
              "    }\n",
              "\n",
              "    .dataframe thead th {\n",
              "        text-align: right;\n",
              "    }\n",
              "</style>\n",
              "<table border=\"1\" class=\"dataframe\">\n",
              "  <thead>\n",
              "    <tr style=\"text-align: right;\">\n",
              "      <th></th>\n",
              "      <th>weight_pounds</th>\n",
              "      <th>is_male</th>\n",
              "      <th>mother_age</th>\n",
              "      <th>plurality</th>\n",
              "      <th>gestation_weeks</th>\n",
              "    </tr>\n",
              "  </thead>\n",
              "  <tbody>\n",
              "    <tr>\n",
              "      <th>0</th>\n",
              "      <td>6.686620</td>\n",
              "      <td>True</td>\n",
              "      <td>18</td>\n",
              "      <td>1</td>\n",
              "      <td>43.0</td>\n",
              "    </tr>\n",
              "    <tr>\n",
              "      <th>1</th>\n",
              "      <td>9.360828</td>\n",
              "      <td>True</td>\n",
              "      <td>32</td>\n",
              "      <td>1</td>\n",
              "      <td>41.0</td>\n",
              "    </tr>\n",
              "    <tr>\n",
              "      <th>2</th>\n",
              "      <td>8.437091</td>\n",
              "      <td>False</td>\n",
              "      <td>30</td>\n",
              "      <td>1</td>\n",
              "      <td>39.0</td>\n",
              "    </tr>\n",
              "    <tr>\n",
              "      <th>3</th>\n",
              "      <td>6.124442</td>\n",
              "      <td>False</td>\n",
              "      <td>24</td>\n",
              "      <td>1</td>\n",
              "      <td>40.0</td>\n",
              "    </tr>\n",
              "    <tr>\n",
              "      <th>4</th>\n",
              "      <td>7.125340</td>\n",
              "      <td>False</td>\n",
              "      <td>26</td>\n",
              "      <td>1</td>\n",
              "      <td>41.0</td>\n",
              "    </tr>\n",
              "  </tbody>\n",
              "</table>\n",
              "</div>"
            ],
            "text/plain": [
              "   weight_pounds  is_male  mother_age  plurality  gestation_weeks\n",
              "0       6.686620     True          18          1             43.0\n",
              "1       9.360828     True          32          1             41.0\n",
              "2       8.437091    False          30          1             39.0\n",
              "3       6.124442    False          24          1             40.0\n",
              "4       7.125340    False          26          1             41.0"
            ]
          },
          "metadata": {},
          "execution_count": 8
        }
      ]
    },
    {
      "cell_type": "code",
      "metadata": {
        "id": "yBQ4H4ON6ZZs",
        "colab": {
          "base_uri": "https://localhost:8080/",
          "height": 295
        },
        "outputId": "4717f883-4e59-4ca1-ba50-7cab14f75963"
      },
      "source": [
        "df.describe()"
      ],
      "execution_count": null,
      "outputs": [
        {
          "output_type": "execute_result",
          "data": {
            "text/html": [
              "<div>\n",
              "<style scoped>\n",
              "    .dataframe tbody tr th:only-of-type {\n",
              "        vertical-align: middle;\n",
              "    }\n",
              "\n",
              "    .dataframe tbody tr th {\n",
              "        vertical-align: top;\n",
              "    }\n",
              "\n",
              "    .dataframe thead th {\n",
              "        text-align: right;\n",
              "    }\n",
              "</style>\n",
              "<table border=\"1\" class=\"dataframe\">\n",
              "  <thead>\n",
              "    <tr style=\"text-align: right;\">\n",
              "      <th></th>\n",
              "      <th>weight_pounds</th>\n",
              "      <th>mother_age</th>\n",
              "      <th>plurality</th>\n",
              "      <th>gestation_weeks</th>\n",
              "    </tr>\n",
              "  </thead>\n",
              "  <tbody>\n",
              "    <tr>\n",
              "      <th>count</th>\n",
              "      <td>9989.000000</td>\n",
              "      <td>10000.000000</td>\n",
              "      <td>10000.000000</td>\n",
              "      <td>9890.000000</td>\n",
              "    </tr>\n",
              "    <tr>\n",
              "      <th>mean</th>\n",
              "      <td>7.297602</td>\n",
              "      <td>27.298900</td>\n",
              "      <td>1.034400</td>\n",
              "      <td>38.699798</td>\n",
              "    </tr>\n",
              "    <tr>\n",
              "      <th>std</th>\n",
              "      <td>1.291685</td>\n",
              "      <td>6.165838</td>\n",
              "      <td>0.192926</td>\n",
              "      <td>2.539957</td>\n",
              "    </tr>\n",
              "    <tr>\n",
              "      <th>min</th>\n",
              "      <td>0.612885</td>\n",
              "      <td>12.000000</td>\n",
              "      <td>1.000000</td>\n",
              "      <td>17.000000</td>\n",
              "    </tr>\n",
              "    <tr>\n",
              "      <th>25%</th>\n",
              "      <td>6.624891</td>\n",
              "      <td>22.000000</td>\n",
              "      <td>1.000000</td>\n",
              "      <td>38.000000</td>\n",
              "    </tr>\n",
              "    <tr>\n",
              "      <th>50%</th>\n",
              "      <td>7.374463</td>\n",
              "      <td>27.000000</td>\n",
              "      <td>1.000000</td>\n",
              "      <td>39.000000</td>\n",
              "    </tr>\n",
              "    <tr>\n",
              "      <th>75%</th>\n",
              "      <td>8.124034</td>\n",
              "      <td>32.000000</td>\n",
              "      <td>1.000000</td>\n",
              "      <td>40.000000</td>\n",
              "    </tr>\n",
              "    <tr>\n",
              "      <th>max</th>\n",
              "      <td>12.257702</td>\n",
              "      <td>50.000000</td>\n",
              "      <td>3.000000</td>\n",
              "      <td>47.000000</td>\n",
              "    </tr>\n",
              "  </tbody>\n",
              "</table>\n",
              "</div>"
            ],
            "text/plain": [
              "       weight_pounds    mother_age     plurality  gestation_weeks\n",
              "count    9989.000000  10000.000000  10000.000000      9890.000000\n",
              "mean        7.297602     27.298900      1.034400        38.699798\n",
              "std         1.291685      6.165838      0.192926         2.539957\n",
              "min         0.612885     12.000000      1.000000        17.000000\n",
              "25%         6.624891     22.000000      1.000000        38.000000\n",
              "50%         7.374463     27.000000      1.000000        39.000000\n",
              "75%         8.124034     32.000000      1.000000        40.000000\n",
              "max        12.257702     50.000000      3.000000        47.000000"
            ]
          },
          "metadata": {},
          "execution_count": 9
        }
      ]
    },
    {
      "cell_type": "code",
      "metadata": {
        "id": "oMAH-a7l6dEv",
        "colab": {
          "base_uri": "https://localhost:8080/"
        },
        "outputId": "1cf721b0-3fe9-4e74-ae11-12d58b94cb7b"
      },
      "source": [
        "df['is_male'].value_counts()"
      ],
      "execution_count": null,
      "outputs": [
        {
          "output_type": "execute_result",
          "data": {
            "text/plain": [
              "True     5150\n",
              "False    4850\n",
              "Name: is_male, dtype: int64"
            ]
          },
          "metadata": {},
          "execution_count": 10
        }
      ]
    },
    {
      "cell_type": "markdown",
      "metadata": {
        "id": "ACzDDdFrx1ER"
      },
      "source": [
        "**Preparing the data**"
      ]
    },
    {
      "cell_type": "code",
      "metadata": {
        "id": "osRxUcYf7S6f"
      },
      "source": [
        "df = df.dropna()\n",
        "df = shuffle(df, random_state = 2)"
      ],
      "execution_count": null,
      "outputs": []
    },
    {
      "cell_type": "code",
      "metadata": {
        "id": "4sbblhWA7ZRe"
      },
      "source": [
        "labels = df['weight_pounds']\n",
        "data = df.drop(columns=['weight_pounds'])\n",
        "data['is_male'] = data['is_male'].astype(int)"
      ],
      "execution_count": null,
      "outputs": []
    },
    {
      "cell_type": "code",
      "metadata": {
        "id": "FEoS6JUE9Kaf"
      },
      "source": [
        "x, y = data, labels\n",
        "x_train, x_test, y_train, y_test = train_test_split(x, y)"
      ],
      "execution_count": null,
      "outputs": []
    },
    {
      "cell_type": "markdown",
      "metadata": {
        "id": "AQN3nc_SyO7u"
      },
      "source": [
        "**Building and training model**"
      ]
    },
    {
      "cell_type": "code",
      "metadata": {
        "id": "NB8-XkR3_J6J"
      },
      "source": [
        "model = Sequential([\n",
        "    Dense(64, activation='relu', input_shape=(len(x_train.columns),)),\n",
        "    Dense(32, activation='relu'),\n",
        "    Dense(1)\n",
        "])"
      ],
      "execution_count": null,
      "outputs": []
    },
    {
      "cell_type": "code",
      "metadata": {
        "id": "AgKyGG_m_rl_"
      },
      "source": [
        "model.compile(optimizer=tf.keras.optimizers.RMSprop(),\n",
        "              loss=tf.keras.losses.MeanSquaredError(),\n",
        "              metrics=['mae', 'mse'])"
      ],
      "execution_count": null,
      "outputs": []
    },
    {
      "cell_type": "code",
      "metadata": {
        "id": "SCvz5IeIABUm",
        "colab": {
          "base_uri": "https://localhost:8080/"
        },
        "outputId": "ee0a3170-bc59-4080-b6ba-86f38e09e4fd"
      },
      "source": [
        "model.summary()"
      ],
      "execution_count": null,
      "outputs": [
        {
          "output_type": "stream",
          "name": "stdout",
          "text": [
            "Model: \"sequential\"\n",
            "_________________________________________________________________\n",
            "Layer (type)                 Output Shape              Param #   \n",
            "=================================================================\n",
            "dense (Dense)                (None, 64)                320       \n",
            "_________________________________________________________________\n",
            "dense_1 (Dense)              (None, 32)                2080      \n",
            "_________________________________________________________________\n",
            "dense_2 (Dense)              (None, 1)                 33        \n",
            "=================================================================\n",
            "Total params: 2,433\n",
            "Trainable params: 2,433\n",
            "Non-trainable params: 0\n",
            "_________________________________________________________________\n"
          ]
        }
      ]
    },
    {
      "cell_type": "code",
      "metadata": {
        "id": "btumJhScAH0o",
        "colab": {
          "base_uri": "https://localhost:8080/"
        },
        "outputId": "61f47831-3f51-4f6b-c193-379e3b1d38fe"
      },
      "source": [
        "model.fit(x_train, y_train, epochs=10, validation_split=0.1)"
      ],
      "execution_count": null,
      "outputs": [
        {
          "output_type": "stream",
          "name": "stdout",
          "text": [
            "Epoch 1/10\n",
            "209/209 [==============================] - 1s 2ms/step - loss: 2.7053 - mae: 1.0925 - mse: 2.7053 - val_loss: 1.1660 - val_mae: 0.8334 - val_mse: 1.1660\n",
            "Epoch 2/10\n",
            "209/209 [==============================] - 0s 1ms/step - loss: 1.2824 - mae: 0.8832 - mse: 1.2824 - val_loss: 1.2435 - val_mae: 0.8698 - val_mse: 1.2435\n",
            "Epoch 3/10\n",
            "209/209 [==============================] - 0s 2ms/step - loss: 1.2724 - mae: 0.8765 - mse: 1.2724 - val_loss: 1.7464 - val_mae: 1.0537 - val_mse: 1.7464\n",
            "Epoch 4/10\n",
            "209/209 [==============================] - 0s 1ms/step - loss: 1.2476 - mae: 0.8730 - mse: 1.2476 - val_loss: 1.5607 - val_mae: 1.0009 - val_mse: 1.5607\n",
            "Epoch 5/10\n",
            "209/209 [==============================] - 0s 1ms/step - loss: 1.2311 - mae: 0.8652 - mse: 1.2311 - val_loss: 1.2793 - val_mae: 0.8946 - val_mse: 1.2793\n",
            "Epoch 6/10\n",
            "209/209 [==============================] - 0s 1ms/step - loss: 1.2152 - mae: 0.8582 - mse: 1.2152 - val_loss: 1.1161 - val_mae: 0.8275 - val_mse: 1.1161\n",
            "Epoch 7/10\n",
            "209/209 [==============================] - 0s 1ms/step - loss: 1.1951 - mae: 0.8557 - mse: 1.1951 - val_loss: 1.1167 - val_mae: 0.8222 - val_mse: 1.1167\n",
            "Epoch 8/10\n",
            "209/209 [==============================] - 0s 1ms/step - loss: 1.1859 - mae: 0.8501 - mse: 1.1859 - val_loss: 1.0973 - val_mae: 0.8174 - val_mse: 1.0973\n",
            "Epoch 9/10\n",
            "209/209 [==============================] - 0s 1ms/step - loss: 1.1931 - mae: 0.8550 - mse: 1.1931 - val_loss: 1.0924 - val_mae: 0.8151 - val_mse: 1.0924\n",
            "Epoch 10/10\n",
            "209/209 [==============================] - 0s 1ms/step - loss: 1.1810 - mae: 0.8506 - mse: 1.1810 - val_loss: 1.2872 - val_mae: 0.8911 - val_mse: 1.2872\n"
          ]
        },
        {
          "output_type": "execute_result",
          "data": {
            "text/plain": [
              "<keras.callbacks.History at 0x7fe6400ce9d0>"
            ]
          },
          "metadata": {},
          "execution_count": 17
        }
      ]
    },
    {
      "cell_type": "code",
      "metadata": {
        "id": "ZBgVQFTmAYn8",
        "colab": {
          "base_uri": "https://localhost:8080/"
        },
        "outputId": "c8e6bfbc-297a-4c17-f7c3-17ad3d956782"
      },
      "source": [
        "num_examples = 10\n",
        "predictions = model.predict(x_test[:num_examples])\n",
        "predictions.shape"
      ],
      "execution_count": null,
      "outputs": [
        {
          "output_type": "execute_result",
          "data": {
            "text/plain": [
              "(10, 1)"
            ]
          },
          "metadata": {},
          "execution_count": 18
        }
      ]
    },
    {
      "cell_type": "code",
      "metadata": {
        "id": "ahDm9qX6A_2s",
        "colab": {
          "base_uri": "https://localhost:8080/"
        },
        "outputId": "89e9a8e5-a65d-4274-b0a8-8aee5fa336ef"
      },
      "source": [
        "for i in range(num_examples):\n",
        "  print('Predicted val: ', predictions[i][0])\n",
        "  print('Actual val: ', y_test.iloc[i])\n",
        "  print()"
      ],
      "execution_count": null,
      "outputs": [
        {
          "output_type": "stream",
          "name": "stdout",
          "text": [
            "Predicted val:  7.1558824\n",
            "Actual val:  7.8705027534\n",
            "\n",
            "Predicted val:  5.9338865\n",
            "Actual val:  8.000575487979999\n",
            "\n",
            "Predicted val:  5.221514\n",
            "Actual val:  3.0622208191799998\n",
            "\n",
            "Predicted val:  6.493481\n",
            "Actual val:  4.62529825676\n",
            "\n",
            "Predicted val:  6.7575135\n",
            "Actual val:  7.936641432\n",
            "\n",
            "Predicted val:  6.6600757\n",
            "Actual val:  6.8122838958\n",
            "\n",
            "Predicted val:  7.0130887\n",
            "Actual val:  8.498820200099999\n",
            "\n",
            "Predicted val:  7.331093\n",
            "Actual val:  8.498820200099999\n",
            "\n",
            "Predicted val:  7.058575\n",
            "Actual val:  10.2074027306\n",
            "\n",
            "Predicted val:  7.224786\n",
            "Actual val:  8.24969784404\n",
            "\n"
          ]
        }
      ]
    },
    {
      "cell_type": "markdown",
      "metadata": {
        "id": "UKKVbuh3ySv6"
      },
      "source": [
        "**Using What-If tool for visualisation**"
      ]
    },
    {
      "cell_type": "code",
      "metadata": {
        "id": "F6Ac98DHBTMO"
      },
      "source": [
        "wit_data = pd.concat([x_test, y_test], axis=1)"
      ],
      "execution_count": null,
      "outputs": []
    },
    {
      "cell_type": "code",
      "metadata": {
        "id": "tj7GYl22CERB"
      },
      "source": [
        "def custom_predict(examples_to_infer):\n",
        "  preds = model.predict(examples_to_infer)\n",
        "  return preds"
      ],
      "execution_count": null,
      "outputs": []
    },
    {
      "cell_type": "code",
      "metadata": {
        "id": "tjR8ecwFutFk"
      },
      "source": [
        "config_builder = (WitConfigBuilder(wit_data[:500].values.tolist(), data.columns.tolist() + ['weight_pounds'])\n",
        "  .set_custom_predict_fn(custom_predict)\n",
        "  .set_target_feature('weight_pounds')\n",
        "  .set_model_type('regression'))\n",
        "WitWidget(config_builder, height=800)"
      ],
      "execution_count": null,
      "outputs": []
    }
  ]
}