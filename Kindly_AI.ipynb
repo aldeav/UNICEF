{
  "nbformat": 4,
  "nbformat_minor": 0,
  "metadata": {
    "colab": {
      "name": "Kindly_AI.ipynb",
      "provenance": [],
      "collapsed_sections": [],
      "authorship_tag": "ABX9TyMTyYmQ//L/sUHgI+/GjDqB"
    },
    "kernelspec": {
      "name": "python3",
      "display_name": "Python 3"
    },
    "language_info": {
      "name": "python"
    }
  },
  "cells": [
    {
      "cell_type": "markdown",
      "metadata": {
        "id": "YOHhYxCQwbE9"
      },
      "source": [
        "**Importing necessary modules**"
      ]
    },
    {
      "cell_type": "code",
      "metadata": {
        "id": "pKMY2zebyCbO"
      },
      "source": [
        "import pandas as pd\n",
        "import tensorflow as tf\n",
        "from tensorflow.keras import Sequential\n",
        "from tensorflow.keras.layers import Dense\n",
        "\n",
        "import numpy as np\n",
        "import json\n",
        "\n",
        "from sklearn.model_selection import train_test_split\n",
        "from sklearn.utils import shuffle\n",
        "from google.cloud import bigquery\n"
      ],
      "execution_count": 23,
      "outputs": []
    },
    {
      "cell_type": "markdown",
      "metadata": {
        "id": "nCwde1yIv-l8"
      },
      "source": [
        "**Installing What-If tool**"
      ]
    },
    {
      "cell_type": "code",
      "metadata": {
        "id": "KbWcRlZdzF8q"
      },
      "source": [
        "!pip install witwidget"
      ],
      "execution_count": null,
      "outputs": []
    },
    {
      "cell_type": "code",
      "metadata": {
        "id": "6oXKfOw70F5W"
      },
      "source": [
        "from witwidget.notebook.visualization import WitWidget, WitConfigBuilder"
      ],
      "execution_count": 25,
      "outputs": []
    },
    {
      "cell_type": "code",
      "metadata": {
        "id": "URBqACvk3DmD",
        "colab": {
          "base_uri": "https://localhost:8080/"
        },
        "outputId": "6eda1530-e154-4c8c-d2fd-950297b41807"
      },
      "source": [
        "from google.colab import auth\n",
        "auth.authenticate_user()\n",
        "print('Authenticated')"
      ],
      "execution_count": 26,
      "outputs": [
        {
          "output_type": "stream",
          "name": "stdout",
          "text": [
            "Authenticated\n"
          ]
        }
      ]
    },
    {
      "cell_type": "code",
      "metadata": {
        "id": "p77wWwwC0K4Z"
      },
      "source": [
        "project_id = 'unicef-aldeav'"
      ],
      "execution_count": 27,
      "outputs": []
    },
    {
      "cell_type": "code",
      "metadata": {
        "id": "EDpQkjKs1AkJ"
      },
      "source": [
        "client = bigquery.Client(project=project_id)"
      ],
      "execution_count": 28,
      "outputs": []
    },
    {
      "cell_type": "markdown",
      "metadata": {
        "id": "_1u5X8YhxRVq"
      },
      "source": [
        "**Retrieving natality dataset using BigQuery**"
      ]
    },
    {
      "cell_type": "code",
      "metadata": {
        "id": "zXO4b8nF4qzl"
      },
      "source": [
        "sql = \"\"\"\n",
        "SELECT\n",
        "  weight_pounds,\n",
        "  is_male,\n",
        "  mother_age,\n",
        "  plurality,\n",
        "  gestation_weeks\n",
        "FROM\n",
        "  publicdata.samples.natality\n",
        "WHERE year > 2000\n",
        "LIMIT 10000\n",
        "\"\"\"\n",
        "\n",
        "df = client.query(sql).to_dataframe()"
      ],
      "execution_count": 29,
      "outputs": []
    },
    {
      "cell_type": "code",
      "metadata": {
        "id": "ISrJQI-V49Is",
        "colab": {
          "base_uri": "https://localhost:8080/",
          "height": 203
        },
        "outputId": "cc7b9659-5e6e-4b05-a401-89e913dce502"
      },
      "source": [
        "df.head()"
      ],
      "execution_count": 30,
      "outputs": [
        {
          "output_type": "execute_result",
          "data": {
            "text/html": [
              "<div>\n",
              "<style scoped>\n",
              "    .dataframe tbody tr th:only-of-type {\n",
              "        vertical-align: middle;\n",
              "    }\n",
              "\n",
              "    .dataframe tbody tr th {\n",
              "        vertical-align: top;\n",
              "    }\n",
              "\n",
              "    .dataframe thead th {\n",
              "        text-align: right;\n",
              "    }\n",
              "</style>\n",
              "<table border=\"1\" class=\"dataframe\">\n",
              "  <thead>\n",
              "    <tr style=\"text-align: right;\">\n",
              "      <th></th>\n",
              "      <th>weight_pounds</th>\n",
              "      <th>is_male</th>\n",
              "      <th>mother_age</th>\n",
              "      <th>plurality</th>\n",
              "      <th>gestation_weeks</th>\n",
              "    </tr>\n",
              "  </thead>\n",
              "  <tbody>\n",
              "    <tr>\n",
              "      <th>0</th>\n",
              "      <td>6.686620</td>\n",
              "      <td>True</td>\n",
              "      <td>18</td>\n",
              "      <td>1</td>\n",
              "      <td>43.0</td>\n",
              "    </tr>\n",
              "    <tr>\n",
              "      <th>1</th>\n",
              "      <td>9.360828</td>\n",
              "      <td>True</td>\n",
              "      <td>32</td>\n",
              "      <td>1</td>\n",
              "      <td>41.0</td>\n",
              "    </tr>\n",
              "    <tr>\n",
              "      <th>2</th>\n",
              "      <td>8.437091</td>\n",
              "      <td>False</td>\n",
              "      <td>30</td>\n",
              "      <td>1</td>\n",
              "      <td>39.0</td>\n",
              "    </tr>\n",
              "    <tr>\n",
              "      <th>3</th>\n",
              "      <td>6.124442</td>\n",
              "      <td>False</td>\n",
              "      <td>24</td>\n",
              "      <td>1</td>\n",
              "      <td>40.0</td>\n",
              "    </tr>\n",
              "    <tr>\n",
              "      <th>4</th>\n",
              "      <td>7.125340</td>\n",
              "      <td>False</td>\n",
              "      <td>26</td>\n",
              "      <td>1</td>\n",
              "      <td>41.0</td>\n",
              "    </tr>\n",
              "  </tbody>\n",
              "</table>\n",
              "</div>"
            ],
            "text/plain": [
              "   weight_pounds  is_male  mother_age  plurality  gestation_weeks\n",
              "0       6.686620     True          18          1             43.0\n",
              "1       9.360828     True          32          1             41.0\n",
              "2       8.437091    False          30          1             39.0\n",
              "3       6.124442    False          24          1             40.0\n",
              "4       7.125340    False          26          1             41.0"
            ]
          },
          "metadata": {},
          "execution_count": 30
        }
      ]
    },
    {
      "cell_type": "code",
      "metadata": {
        "id": "yBQ4H4ON6ZZs",
        "colab": {
          "base_uri": "https://localhost:8080/",
          "height": 295
        },
        "outputId": "4439c77f-c0c4-4cce-e7c7-1b8922fe0611"
      },
      "source": [
        "df.describe()"
      ],
      "execution_count": 31,
      "outputs": [
        {
          "output_type": "execute_result",
          "data": {
            "text/html": [
              "<div>\n",
              "<style scoped>\n",
              "    .dataframe tbody tr th:only-of-type {\n",
              "        vertical-align: middle;\n",
              "    }\n",
              "\n",
              "    .dataframe tbody tr th {\n",
              "        vertical-align: top;\n",
              "    }\n",
              "\n",
              "    .dataframe thead th {\n",
              "        text-align: right;\n",
              "    }\n",
              "</style>\n",
              "<table border=\"1\" class=\"dataframe\">\n",
              "  <thead>\n",
              "    <tr style=\"text-align: right;\">\n",
              "      <th></th>\n",
              "      <th>weight_pounds</th>\n",
              "      <th>mother_age</th>\n",
              "      <th>plurality</th>\n",
              "      <th>gestation_weeks</th>\n",
              "    </tr>\n",
              "  </thead>\n",
              "  <tbody>\n",
              "    <tr>\n",
              "      <th>count</th>\n",
              "      <td>9989.000000</td>\n",
              "      <td>10000.000000</td>\n",
              "      <td>10000.000000</td>\n",
              "      <td>9890.000000</td>\n",
              "    </tr>\n",
              "    <tr>\n",
              "      <th>mean</th>\n",
              "      <td>7.297602</td>\n",
              "      <td>27.298900</td>\n",
              "      <td>1.034400</td>\n",
              "      <td>38.699798</td>\n",
              "    </tr>\n",
              "    <tr>\n",
              "      <th>std</th>\n",
              "      <td>1.291685</td>\n",
              "      <td>6.165838</td>\n",
              "      <td>0.192926</td>\n",
              "      <td>2.539957</td>\n",
              "    </tr>\n",
              "    <tr>\n",
              "      <th>min</th>\n",
              "      <td>0.612885</td>\n",
              "      <td>12.000000</td>\n",
              "      <td>1.000000</td>\n",
              "      <td>17.000000</td>\n",
              "    </tr>\n",
              "    <tr>\n",
              "      <th>25%</th>\n",
              "      <td>6.624891</td>\n",
              "      <td>22.000000</td>\n",
              "      <td>1.000000</td>\n",
              "      <td>38.000000</td>\n",
              "    </tr>\n",
              "    <tr>\n",
              "      <th>50%</th>\n",
              "      <td>7.374463</td>\n",
              "      <td>27.000000</td>\n",
              "      <td>1.000000</td>\n",
              "      <td>39.000000</td>\n",
              "    </tr>\n",
              "    <tr>\n",
              "      <th>75%</th>\n",
              "      <td>8.124034</td>\n",
              "      <td>32.000000</td>\n",
              "      <td>1.000000</td>\n",
              "      <td>40.000000</td>\n",
              "    </tr>\n",
              "    <tr>\n",
              "      <th>max</th>\n",
              "      <td>12.257702</td>\n",
              "      <td>50.000000</td>\n",
              "      <td>3.000000</td>\n",
              "      <td>47.000000</td>\n",
              "    </tr>\n",
              "  </tbody>\n",
              "</table>\n",
              "</div>"
            ],
            "text/plain": [
              "       weight_pounds    mother_age     plurality  gestation_weeks\n",
              "count    9989.000000  10000.000000  10000.000000      9890.000000\n",
              "mean        7.297602     27.298900      1.034400        38.699798\n",
              "std         1.291685      6.165838      0.192926         2.539957\n",
              "min         0.612885     12.000000      1.000000        17.000000\n",
              "25%         6.624891     22.000000      1.000000        38.000000\n",
              "50%         7.374463     27.000000      1.000000        39.000000\n",
              "75%         8.124034     32.000000      1.000000        40.000000\n",
              "max        12.257702     50.000000      3.000000        47.000000"
            ]
          },
          "metadata": {},
          "execution_count": 31
        }
      ]
    },
    {
      "cell_type": "code",
      "metadata": {
        "id": "oMAH-a7l6dEv",
        "colab": {
          "base_uri": "https://localhost:8080/"
        },
        "outputId": "95b66176-fdff-40c1-e256-23119642c7c9"
      },
      "source": [
        "df['is_male'].value_counts()"
      ],
      "execution_count": 32,
      "outputs": [
        {
          "output_type": "execute_result",
          "data": {
            "text/plain": [
              "True     5150\n",
              "False    4850\n",
              "Name: is_male, dtype: int64"
            ]
          },
          "metadata": {},
          "execution_count": 32
        }
      ]
    },
    {
      "cell_type": "markdown",
      "metadata": {
        "id": "ACzDDdFrx1ER"
      },
      "source": [
        "**Preparing the data**"
      ]
    },
    {
      "cell_type": "code",
      "metadata": {
        "id": "osRxUcYf7S6f"
      },
      "source": [
        "df = df.dropna()\n",
        "df = shuffle(df, random_state = 2)"
      ],
      "execution_count": 33,
      "outputs": []
    },
    {
      "cell_type": "code",
      "metadata": {
        "id": "4sbblhWA7ZRe"
      },
      "source": [
        "labels = df['weight_pounds']\n",
        "data = df.drop(columns=['weight_pounds'])\n",
        "data['is_male'] = data['is_male'].astype(int)"
      ],
      "execution_count": 34,
      "outputs": []
    },
    {
      "cell_type": "code",
      "metadata": {
        "id": "FEoS6JUE9Kaf"
      },
      "source": [
        "x, y = data, labels\n",
        "x_train, x_test, y_train, y_test = train_test_split(x, y)"
      ],
      "execution_count": 35,
      "outputs": []
    },
    {
      "cell_type": "markdown",
      "metadata": {
        "id": "AQN3nc_SyO7u"
      },
      "source": [
        "**Building and training model**"
      ]
    },
    {
      "cell_type": "code",
      "metadata": {
        "id": "NB8-XkR3_J6J"
      },
      "source": [
        "model = Sequential([\n",
        "    Dense(64, activation='relu', input_shape=(len(x_train.columns),)),\n",
        "    Dense(32, activation='relu'),\n",
        "    Dense(1)\n",
        "])"
      ],
      "execution_count": 36,
      "outputs": []
    },
    {
      "cell_type": "code",
      "metadata": {
        "id": "AgKyGG_m_rl_"
      },
      "source": [
        "model.compile(optimizer=tf.keras.optimizers.RMSprop(),\n",
        "              loss=tf.keras.losses.MeanSquaredError(),\n",
        "              metrics=['mae', 'mse'])"
      ],
      "execution_count": 37,
      "outputs": []
    },
    {
      "cell_type": "code",
      "metadata": {
        "id": "SCvz5IeIABUm",
        "colab": {
          "base_uri": "https://localhost:8080/"
        },
        "outputId": "16cb14b7-57f8-4c98-f6fe-6745c6abe0b9"
      },
      "source": [
        "model.summary()"
      ],
      "execution_count": 38,
      "outputs": [
        {
          "output_type": "stream",
          "name": "stdout",
          "text": [
            "Model: \"sequential_1\"\n",
            "_________________________________________________________________\n",
            "Layer (type)                 Output Shape              Param #   \n",
            "=================================================================\n",
            "dense_3 (Dense)              (None, 64)                320       \n",
            "_________________________________________________________________\n",
            "dense_4 (Dense)              (None, 32)                2080      \n",
            "_________________________________________________________________\n",
            "dense_5 (Dense)              (None, 1)                 33        \n",
            "=================================================================\n",
            "Total params: 2,433\n",
            "Trainable params: 2,433\n",
            "Non-trainable params: 0\n",
            "_________________________________________________________________\n"
          ]
        }
      ]
    },
    {
      "cell_type": "code",
      "metadata": {
        "id": "btumJhScAH0o",
        "colab": {
          "base_uri": "https://localhost:8080/"
        },
        "outputId": "d6ff1f39-b46b-4849-d08a-539df3e88df4"
      },
      "source": [
        "model.fit(x_train, y_train, epochs=10, validation_split=0.1)"
      ],
      "execution_count": 39,
      "outputs": [
        {
          "output_type": "stream",
          "name": "stdout",
          "text": [
            "Epoch 1/10\n",
            "209/209 [==============================] - 1s 2ms/step - loss: 1.5915 - mae: 0.9890 - mse: 1.5915 - val_loss: 1.3877 - val_mae: 0.9287 - val_mse: 1.3877\n",
            "Epoch 2/10\n",
            "209/209 [==============================] - 0s 1ms/step - loss: 1.4406 - mae: 0.9401 - mse: 1.4406 - val_loss: 1.3200 - val_mae: 0.9184 - val_mse: 1.3200\n",
            "Epoch 3/10\n",
            "209/209 [==============================] - 0s 2ms/step - loss: 1.4192 - mae: 0.9320 - mse: 1.4192 - val_loss: 2.0897 - val_mae: 1.1591 - val_mse: 2.0897\n",
            "Epoch 4/10\n",
            "209/209 [==============================] - 0s 1ms/step - loss: 1.3908 - mae: 0.9277 - mse: 1.3908 - val_loss: 1.2356 - val_mae: 0.8806 - val_mse: 1.2356\n",
            "Epoch 5/10\n",
            "209/209 [==============================] - 0s 2ms/step - loss: 1.3512 - mae: 0.9107 - mse: 1.3512 - val_loss: 1.8425 - val_mae: 1.0747 - val_mse: 1.8425\n",
            "Epoch 6/10\n",
            "209/209 [==============================] - 0s 1ms/step - loss: 1.3312 - mae: 0.9052 - mse: 1.3312 - val_loss: 1.8424 - val_mae: 1.0720 - val_mse: 1.8424\n",
            "Epoch 7/10\n",
            "209/209 [==============================] - 0s 1ms/step - loss: 1.2964 - mae: 0.8884 - mse: 1.2964 - val_loss: 1.4003 - val_mae: 0.9492 - val_mse: 1.4003\n",
            "Epoch 8/10\n",
            "209/209 [==============================] - 0s 1ms/step - loss: 1.2568 - mae: 0.8771 - mse: 1.2568 - val_loss: 1.9758 - val_mae: 1.1423 - val_mse: 1.9758\n",
            "Epoch 9/10\n",
            "209/209 [==============================] - 0s 1ms/step - loss: 1.2606 - mae: 0.8778 - mse: 1.2606 - val_loss: 1.2223 - val_mae: 0.8755 - val_mse: 1.2223\n",
            "Epoch 10/10\n",
            "209/209 [==============================] - 0s 1ms/step - loss: 1.2601 - mae: 0.8773 - mse: 1.2601 - val_loss: 1.1719 - val_mae: 0.8662 - val_mse: 1.1719\n"
          ]
        },
        {
          "output_type": "execute_result",
          "data": {
            "text/plain": [
              "<keras.callbacks.History at 0x7fe63feeb250>"
            ]
          },
          "metadata": {},
          "execution_count": 39
        }
      ]
    },
    {
      "cell_type": "code",
      "metadata": {
        "id": "ZBgVQFTmAYn8",
        "colab": {
          "base_uri": "https://localhost:8080/"
        },
        "outputId": "66b7be5e-6896-4d10-9ba9-95c3ca244b11"
      },
      "source": [
        "num_examples = 10\n",
        "predictions = model.predict(x_test[:num_examples])\n",
        "predictions.shape"
      ],
      "execution_count": 40,
      "outputs": [
        {
          "output_type": "execute_result",
          "data": {
            "text/plain": [
              "(10, 1)"
            ]
          },
          "metadata": {},
          "execution_count": 40
        }
      ]
    },
    {
      "cell_type": "code",
      "metadata": {
        "id": "ahDm9qX6A_2s",
        "colab": {
          "base_uri": "https://localhost:8080/"
        },
        "outputId": "f3f6c21f-651b-407e-e827-7a99539d93a3"
      },
      "source": [
        "for i in range(num_examples):\n",
        "  print('Predicted val: ', predictions[i][0])\n",
        "  print('Actual val: ', y_test.iloc[i])\n",
        "  print()"
      ],
      "execution_count": 41,
      "outputs": [
        {
          "output_type": "stream",
          "name": "stdout",
          "text": [
            "Predicted val:  7.591659\n",
            "Actual val:  7.36784879604\n",
            "\n",
            "Predicted val:  8.056238\n",
            "Actual val:  8.18796841068\n",
            "\n",
            "Predicted val:  7.3322444\n",
            "Actual val:  7.81318256528\n",
            "\n",
            "Predicted val:  7.3100014\n",
            "Actual val:  7.31273323054\n",
            "\n",
            "Predicted val:  7.7091746\n",
            "Actual val:  6.0627122049999995\n",
            "\n",
            "Predicted val:  7.688924\n",
            "Actual val:  6.71968974576\n",
            "\n",
            "Predicted val:  7.167837\n",
            "Actual val:  7.464852191319999\n",
            "\n",
            "Predicted val:  7.6010714\n",
            "Actual val:  5.74965579296\n",
            "\n",
            "Predicted val:  7.540803\n",
            "Actual val:  7.31273323054\n",
            "\n",
            "Predicted val:  7.7856293\n",
            "Actual val:  6.56316153974\n",
            "\n"
          ]
        }
      ]
    },
    {
      "cell_type": "markdown",
      "metadata": {
        "id": "UKKVbuh3ySv6"
      },
      "source": [
        "**Using What-If tool for visualisation**"
      ]
    },
    {
      "cell_type": "code",
      "metadata": {
        "id": "F6Ac98DHBTMO"
      },
      "source": [
        "wit_data = pd.concat([x_test, y_test], axis=1)"
      ],
      "execution_count": 42,
      "outputs": []
    },
    {
      "cell_type": "code",
      "metadata": {
        "id": "tj7GYl22CERB"
      },
      "source": [
        "def custom_predict(examples_to_infer):\n",
        "  preds = model.predict(examples_to_infer)\n",
        "  return preds"
      ],
      "execution_count": 43,
      "outputs": []
    },
    {
      "cell_type": "code",
      "metadata": {
        "id": "tjR8ecwFutFk"
      },
      "source": [
        "config_builder = (WitConfigBuilder(wit_data[:500].values.tolist(), data.columns.tolist() + ['weight_pounds'])\n",
        "  .set_custom_predict_fn(custom_predict)\n",
        "  .set_target_feature('weight_pounds')\n",
        "  .set_model_type('regression'))\n",
        "WitWidget(config_builder, height=800)"
      ],
      "execution_count": null,
      "outputs": []
    }
  ]
}